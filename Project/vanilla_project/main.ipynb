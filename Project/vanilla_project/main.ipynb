{
 "cells": [
  {
   "cell_type": "code",
   "execution_count": null,
   "metadata": {},
   "outputs": [],
   "source": [
    "bucket_name = \"xxxxxxxxxxx\"\n",
    "folder = \"docs\"\n",
    "object_name = \"2022-Shareholder-Letter.pdf\""
   ]
  },
  {
   "cell_type": "code",
   "execution_count": null,
   "metadata": {},
   "outputs": [],
   "source": [
    "import boto3\n",
    "import os\n",
    "\n",
    "region_name = \"us-east-1\"\n",
    "\n",
    "# We start loading the client for the AWS services we will use\n",
    "s3_client = boto3.client(\n",
    "    \"s3\",\n",
    "    region_name=region_name,\n",
    "    profile_name=\"<default_profile>\",\n",
    ")\n",
    "\n",
    "\n",
    "bedrock_client = boto3.client(\n",
    "    \"bedrock-agent\",\n",
    "    region_name=region_name,\n",
    "    profile_name=\"<default_profile>\",\n",
    ")"
   ]
  },
  {
   "cell_type": "code",
   "execution_count": null,
   "metadata": {},
   "outputs": [],
   "source": [
    "def create_s3_bucket(bucket_name, region=\"us-east-1\"):\n",
    "    \"\"\"\n",
    "    Create an S3 bucket in the specified region\n",
    "\n",
    "    :param bucket_name: Name of the S3 bucket to create\n",
    "    :param region: AWS region where the bucket will be created\n",
    "    :return: Bucket name\n",
    "    \"\"\"\n",
    "    try:\n",
    "        # Create bucket\n",
    "        s3_client.create_bucket(Bucket=bucket_name)\n",
    "\n",
    "        print(f\"Bucket {bucket_name} created successfully in {region}\")\n",
    "        return bucket_name\n",
    "\n",
    "    except s3_client.exceptions.BucketAlreadyExists:\n",
    "        print(f\"Bucket {bucket_name} already exists\")\n",
    "        return bucket_name\n",
    "    except Exception as e:\n",
    "        print(f\"Error creating bucket: {e}\")\n",
    "        raise\n",
    "\n",
    "\n",
    "def upload_pdf_to_s3(bucket_name, folder, object_name=None):\n",
    "    \"\"\"\n",
    "    Upload a PDF file to S3 bucket\n",
    "\n",
    "    :param bucket_name: Name of the S3 bucket\n",
    "    :param file_path: Local path to the PDF file\n",
    "    :param object_name: S3 object name. If not specified, file_path is used\n",
    "    :return: True if file was uploaded, else False\n",
    "    \"\"\"\n",
    "    # If object_name not specified, use filename\n",
    "    if object_name is None:\n",
    "        object_name = os.path.basename(folder)\n",
    "\n",
    "    try:\n",
    "        # Upload the file\n",
    "        s3_client.upload_file(f\"{folder}/{object_name}\", bucket_name, object_name)\n",
    "        print(f\"File {folder} uploaded to {bucket_name}/{object_name}\")\n",
    "        return True\n",
    "    except Exception as e:\n",
    "        print(f\"Error uploading file: {e}\")\n",
    "        return False"
   ]
  },
  {
   "cell_type": "code",
   "execution_count": null,
   "metadata": {},
   "outputs": [],
   "source": [
    "bucket_name = create_s3_bucket(bucket_name)\n",
    "upload_pdf_to_s3(bucket_name, folder=folder, object_name=object_name)"
   ]
  }
 ],
 "metadata": {
  "kernelspec": {
   "display_name": ".venv",
   "language": "python",
   "name": "python3"
  },
  "language_info": {
   "codemirror_mode": {
    "name": "ipython",
    "version": 3
   },
   "file_extension": ".py",
   "mimetype": "text/x-python",
   "name": "python",
   "nbconvert_exporter": "python",
   "pygments_lexer": "ipython3",
   "version": "3.12.4"
  }
 },
 "nbformat": 4,
 "nbformat_minor": 2
}
